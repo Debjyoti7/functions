{
 "cells": [
  {
   "cell_type": "code",
   "execution_count": 1,
   "id": "f020eb71-44da-4775-bac2-df06b4f4d23b",
   "metadata": {},
   "outputs": [],
   "source": [
    "i=[1,3,4,5,6,7]"
   ]
  },
  {
   "cell_type": "code",
   "execution_count": 2,
   "id": "d7bfc52d-bbaa-4399-ab7f-230aab9f90f1",
   "metadata": {},
   "outputs": [
    {
     "data": {
      "text/plain": [
       "6"
      ]
     },
     "execution_count": 2,
     "metadata": {},
     "output_type": "execute_result"
    }
   ],
   "source": [
    "len(i)"
   ]
  },
  {
   "cell_type": "code",
   "execution_count": 3,
   "id": "52c30339-906a-41f0-aee0-e2a481d4b921",
   "metadata": {},
   "outputs": [],
   "source": [
    "def test():\n",
    "    pass"
   ]
  },
  {
   "cell_type": "code",
   "execution_count": 4,
   "id": "89169fc8-56c7-4e0e-ab2e-2201054f2494",
   "metadata": {},
   "outputs": [],
   "source": [
    "def test1():\n",
    "    print('thi is the 1st function')"
   ]
  },
  {
   "cell_type": "code",
   "execution_count": 6,
   "id": "6192c1fa-ecb8-43dd-9951-5bcda414ab49",
   "metadata": {},
   "outputs": [
    {
     "name": "stdout",
     "output_type": "stream",
     "text": [
      "thi is the 1st function\n"
     ]
    }
   ],
   "source": [
    "test1()"
   ]
  },
  {
   "cell_type": "code",
   "execution_count": 10,
   "id": "f8556a5d-0591-43fc-91de-318bd782acbc",
   "metadata": {},
   "outputs": [],
   "source": [
    "def test2():\n",
    "    return \"this my return funtion \""
   ]
  },
  {
   "cell_type": "code",
   "execution_count": 11,
   "id": "a0494474-ca3f-45b4-8a86-6be6949439b5",
   "metadata": {},
   "outputs": [
    {
     "data": {
      "text/plain": [
       "'this my return funtion '"
      ]
     },
     "execution_count": 11,
     "metadata": {},
     "output_type": "execute_result"
    }
   ],
   "source": [
    "test2()"
   ]
  },
  {
   "cell_type": "code",
   "execution_count": 13,
   "id": "39e16247-b1e0-485b-9d90-2f07d54411f6",
   "metadata": {},
   "outputs": [
    {
     "data": {
      "text/plain": [
       "'this my return funtion  abcde'"
      ]
     },
     "execution_count": 13,
     "metadata": {},
     "output_type": "execute_result"
    }
   ],
   "source": [
    "test2() + ' abcde'"
   ]
  },
  {
   "cell_type": "code",
   "execution_count": 14,
   "id": "022a53c4-0b5d-40e9-a59e-0056b27bcd84",
   "metadata": {},
   "outputs": [],
   "source": [
    "def test3():\n",
    "    return 1,2,2.34,3435.435,'debjyoti'"
   ]
  },
  {
   "cell_type": "code",
   "execution_count": 15,
   "id": "70d495d6-1390-4b8f-b2be-c3aaa7c04217",
   "metadata": {},
   "outputs": [
    {
     "data": {
      "text/plain": [
       "(1, 2, 2.34, 3435.435, 'debjyoti')"
      ]
     },
     "execution_count": 15,
     "metadata": {},
     "output_type": "execute_result"
    }
   ],
   "source": [
    "test3()"
   ]
  },
  {
   "cell_type": "code",
   "execution_count": 16,
   "id": "189c3f58-6933-4c2f-bcf9-773caed42258",
   "metadata": {},
   "outputs": [
    {
     "data": {
      "text/plain": [
       "2.34"
      ]
     },
     "execution_count": 16,
     "metadata": {},
     "output_type": "execute_result"
    }
   ],
   "source": [
    "test3()[2]"
   ]
  },
  {
   "cell_type": "code",
   "execution_count": 17,
   "id": "d6a20c97-94db-44b6-8c8e-fe64ebcca43f",
   "metadata": {},
   "outputs": [],
   "source": [
    "def test4():\n",
    "    a=3*45+8-9\n",
    "    return a"
   ]
  },
  {
   "cell_type": "code",
   "execution_count": 19,
   "id": "0e77b234-7c8b-4afb-b3a4-083a82c8a240",
   "metadata": {},
   "outputs": [
    {
     "data": {
      "text/plain": [
       "int"
      ]
     },
     "execution_count": 19,
     "metadata": {},
     "output_type": "execute_result"
    }
   ],
   "source": [
    "type(test4())"
   ]
  },
  {
   "cell_type": "code",
   "execution_count": 20,
   "id": "e1bbf206-02cf-473b-abd8-20c740d6f909",
   "metadata": {},
   "outputs": [],
   "source": [
    "def test5 (a,b):\n",
    "    c=a+b\n",
    "    return c"
   ]
  },
  {
   "cell_type": "code",
   "execution_count": 21,
   "id": "451d323d-8253-4297-bba9-630ee7f69475",
   "metadata": {},
   "outputs": [
    {
     "data": {
      "text/plain": [
       "57"
      ]
     },
     "execution_count": 21,
     "metadata": {},
     "output_type": "execute_result"
    }
   ],
   "source": [
    "test5(1,56)"
   ]
  },
  {
   "cell_type": "code",
   "execution_count": 22,
   "id": "4a0db433-2712-43c5-b588-970ce73874be",
   "metadata": {},
   "outputs": [
    {
     "data": {
      "text/plain": [
       "'debjyotihalder'"
      ]
     },
     "execution_count": 22,
     "metadata": {},
     "output_type": "execute_result"
    }
   ],
   "source": [
    "test5(\"debjyoti\",\"halder\")"
   ]
  },
  {
   "cell_type": "code",
   "execution_count": 23,
   "id": "8fb8e7da-ae05-4b63-bee2-74968dfaf0c1",
   "metadata": {},
   "outputs": [
    {
     "data": {
      "text/plain": [
       "[1, 2, 3, 4, 5, 6]"
      ]
     },
     "execution_count": 23,
     "metadata": {},
     "output_type": "execute_result"
    }
   ],
   "source": [
    "test5([1,2,3],[4,5,6])"
   ]
  },
  {
   "cell_type": "code",
   "execution_count": 24,
   "id": "01d1f565-73b1-4ae1-ae5e-e2812df82336",
   "metadata": {},
   "outputs": [
    {
     "data": {
      "text/plain": [
       "'fgfhjgjvnsfddgfhjg'"
      ]
     },
     "execution_count": 24,
     "metadata": {},
     "output_type": "execute_result"
    }
   ],
   "source": [
    "test5(b='sfddgfhjg', a= \"fgfhjgjvn\")"
   ]
  },
  {
   "cell_type": "code",
   "execution_count": 16,
   "id": "8bb42293-1ba2-443c-b649-88524140790d",
   "metadata": {},
   "outputs": [],
   "source": [
    "def test6(l):\n",
    "    n=[]\n",
    "    for i in l:\n",
    "        if type(i)==int or type(i)== float:\n",
    "            n.append(i)\n",
    "        return n"
   ]
  },
  {
   "cell_type": "code",
   "execution_count": 17,
   "id": "bfb25276-f8d8-4637-9822-1186a2516ca6",
   "metadata": {},
   "outputs": [],
   "source": [
    "l=[1,2,3,4,34.56,89.89,'def','asdg']"
   ]
  },
  {
   "cell_type": "code",
   "execution_count": 24,
   "id": "553fe01b-ccf9-4ae0-ad20-a3339ef2c5c2",
   "metadata": {},
   "outputs": [
    {
     "data": {
      "text/plain": [
       "[1]"
      ]
     },
     "execution_count": 24,
     "metadata": {},
     "output_type": "execute_result"
    }
   ],
   "source": [
    "test6(l)"
   ]
  },
  {
   "cell_type": "code",
   "execution_count": 25,
   "id": "aaa0b432-42a3-4b2e-8c47-2030f69fac81",
   "metadata": {},
   "outputs": [],
   "source": [
    "lst = [1,2,3,4,23.23,34.4,'adf','sds',[1,233,43,34343]]"
   ]
  },
  {
   "cell_type": "code",
   "execution_count": 36,
   "id": "2f34ea82-3e6a-444f-af9f-be4220cc10d0",
   "metadata": {},
   "outputs": [],
   "source": [
    "def test7(a):\n",
    "    n=[]\n",
    "    for i in a:\n",
    "        if type(i)== list:\n",
    "            for j in i:\n",
    "                if type(j)== int or type(j)== float:\n",
    "                    n.append(j)\n",
    "            return n"
   ]
  },
  {
   "cell_type": "code",
   "execution_count": 37,
   "id": "f6e2ac7f-0163-4590-a55b-4a0cd885d69f",
   "metadata": {},
   "outputs": [
    {
     "data": {
      "text/plain": [
       "[1, 2, 3, 4, 23.23, 34.4, 'adf', 'sds', [1, 233, 43, 34343]]"
      ]
     },
     "execution_count": 37,
     "metadata": {},
     "output_type": "execute_result"
    }
   ],
   "source": [
    "lst"
   ]
  },
  {
   "cell_type": "code",
   "execution_count": 38,
   "id": "9426ff05-767a-4e03-add6-96ad8b20c125",
   "metadata": {},
   "outputs": [
    {
     "data": {
      "text/plain": [
       "list"
      ]
     },
     "execution_count": 38,
     "metadata": {},
     "output_type": "execute_result"
    }
   ],
   "source": [
    "type(lst)"
   ]
  },
  {
   "cell_type": "code",
   "execution_count": 39,
   "id": "4f34f61c-f3ad-4012-a756-3b5fcefd1838",
   "metadata": {},
   "outputs": [
    {
     "data": {
      "text/plain": [
       "[1, 233, 43, 34343]"
      ]
     },
     "execution_count": 39,
     "metadata": {},
     "output_type": "execute_result"
    }
   ],
   "source": [
    "test7(lst)"
   ]
  },
  {
   "cell_type": "code",
   "execution_count": 42,
   "id": "159f5e81-ffb1-4319-a6d5-70294acd0c73",
   "metadata": {},
   "outputs": [],
   "source": [
    "def test8(a):\n",
    "    n=[]\n",
    "    for i in a:\n",
    "        if type(i)== list:\n",
    "            for j in i:\n",
    "                if type(j)== int or type(j)== float:\n",
    "                    n.append(j)\n",
    "        else:\n",
    "            if type (i) == int or type(i)== float:\n",
    "                n.append\n",
    "            return n"
   ]
  },
  {
   "cell_type": "code",
   "execution_count": 43,
   "id": "4907a431-9834-4351-87c7-4909a9d2f5c2",
   "metadata": {},
   "outputs": [],
   "source": [
    "def test9(a,d,b,c,e,f):\n",
    "    pass"
   ]
  },
  {
   "cell_type": "code",
   "execution_count": 52,
   "id": "171956fb-fc2d-46c5-95d8-79bdbd7e6646",
   "metadata": {},
   "outputs": [],
   "source": [
    "test9(1,2,3,4,5,6)"
   ]
  },
  {
   "cell_type": "code",
   "execution_count": 53,
   "id": "18222dbf-88dd-41dd-a483-4a6d7f22f93e",
   "metadata": {},
   "outputs": [],
   "source": [
    "def test10 (*args):\n",
    "    return args"
   ]
  },
  {
   "cell_type": "code",
   "execution_count": 56,
   "id": "e8b14976-dae2-4254-8c47-5ad4a83c737f",
   "metadata": {},
   "outputs": [
    {
     "data": {
      "text/plain": [
       "(1,)"
      ]
     },
     "execution_count": 56,
     "metadata": {},
     "output_type": "execute_result"
    }
   ],
   "source": [
    "test10(1)"
   ]
  },
  {
   "cell_type": "code",
   "execution_count": 57,
   "id": "f00dd36a-f469-4d39-84bd-887cc881f12c",
   "metadata": {},
   "outputs": [
    {
     "data": {
      "text/plain": [
       "(1, 2, 3, 4, 5, 6, 7, 7)"
      ]
     },
     "execution_count": 57,
     "metadata": {},
     "output_type": "execute_result"
    }
   ],
   "source": [
    "test10(1,2,3,4,5,6,7,7)"
   ]
  },
  {
   "cell_type": "code",
   "execution_count": 58,
   "id": "2f3e8b75-30a5-4385-b520-77b68fd3aaec",
   "metadata": {},
   "outputs": [],
   "source": [
    "def test11(*args,a):\n",
    "    return args,a"
   ]
  },
  {
   "cell_type": "code",
   "execution_count": 60,
   "id": "72d6a19c-342d-4eca-bd39-bb75a55356ef",
   "metadata": {},
   "outputs": [
    {
     "data": {
      "text/plain": [
       "((1, 2, 3, 3, 4, 4), 'deb')"
      ]
     },
     "execution_count": 60,
     "metadata": {},
     "output_type": "execute_result"
    }
   ],
   "source": [
    "test11(1,2,3,3,4,4, a= 'deb')"
   ]
  },
  {
   "cell_type": "code",
   "execution_count": 94,
   "id": "d3859d8d-949f-4a59-b1a4-ef9a7d0e10a8",
   "metadata": {},
   "outputs": [],
   "source": [
    "def test12(*args):\n",
    "    l = []\n",
    "    for i in args:\n",
    "        if type(i) == list :\n",
    "            l.append(i)\n",
    "    return l"
   ]
  },
  {
   "cell_type": "code",
   "execution_count": 95,
   "id": "e5c9a52b-d043-4f19-97c7-a12793f98923",
   "metadata": {},
   "outputs": [
    {
     "data": {
      "text/plain": [
       "[[1, 2, 3, 4], [34, 3, 4, 56, 65]]"
      ]
     },
     "execution_count": 95,
     "metadata": {},
     "output_type": "execute_result"
    }
   ],
   "source": [
    "test12( 1 , 2 , 34 , 4 , [1,2,3,4] , (2,3,4,5) , 'debo' , [34,3,4,56,65])"
   ]
  },
  {
   "cell_type": "code",
   "execution_count": 84,
   "id": "d7444147-6392-42a8-958f-bb3eb983f63b",
   "metadata": {},
   "outputs": [],
   "source": [
    "def test13(**kwargs):\n",
    "    return kwargs"
   ]
  },
  {
   "cell_type": "code",
   "execution_count": 85,
   "id": "37a70853-37a0-4662-a6ea-d59466745c88",
   "metadata": {},
   "outputs": [
    {
     "data": {
      "text/plain": [
       "{}"
      ]
     },
     "execution_count": 85,
     "metadata": {},
     "output_type": "execute_result"
    }
   ],
   "source": [
    "test13()"
   ]
  },
  {
   "cell_type": "code",
   "execution_count": 86,
   "id": "3cbe7ed1-249e-46e0-a84f-bb90cff9a99b",
   "metadata": {},
   "outputs": [
    {
     "data": {
      "text/plain": [
       "dict"
      ]
     },
     "execution_count": 86,
     "metadata": {},
     "output_type": "execute_result"
    }
   ],
   "source": [
    "type(test13())"
   ]
  },
  {
   "cell_type": "code",
   "execution_count": 87,
   "id": "23390fdf-a7bf-4467-a0f3-a720d7864264",
   "metadata": {},
   "outputs": [
    {
     "data": {
      "text/plain": [
       "{'a': 34, 'b': 23, 'c': [1, 2, 3, 4], 'd': ('abc', 'bcd', 'def')}"
      ]
     },
     "execution_count": 87,
     "metadata": {},
     "output_type": "execute_result"
    }
   ],
   "source": [
    "test13(a=34, b=23, c=[1,2,3,4], d= ('abc','bcd','def'))"
   ]
  },
  {
   "cell_type": "code",
   "execution_count": 88,
   "id": "2bc4b254-71c1-469b-934e-6ef4b70c9f20",
   "metadata": {},
   "outputs": [],
   "source": [
    "def test14(**kwargs):\n",
    "    for i in kwargs.keys():\n",
    "        if type(kwargs[i])== list:\n",
    "            return i, kwargs[i]"
   ]
  },
  {
   "cell_type": "code",
   "execution_count": 89,
   "id": "91b3f93a-2ff1-4fb9-9a12-1022ea68d637",
   "metadata": {},
   "outputs": [
    {
     "data": {
      "text/plain": [
       "('c', [1, 2, 3, 4])"
      ]
     },
     "execution_count": 89,
     "metadata": {},
     "output_type": "execute_result"
    }
   ],
   "source": [
    "test14( a = 34 , b = 23 , c = [1,2,3,4] , d = ('abc','bcd','def'))"
   ]
  },
  {
   "cell_type": "code",
   "execution_count": 90,
   "id": "8c1aca94-f4c9-4783-89f6-cf9b9e9a4d97",
   "metadata": {},
   "outputs": [],
   "source": [
    "def test15(*args , **kwargs) :\n",
    "    return args , kwargs"
   ]
  },
  {
   "cell_type": "code",
   "execution_count": 91,
   "id": "8d04d92e-1328-4d5e-a122-4bcad33359dd",
   "metadata": {},
   "outputs": [
    {
     "data": {
      "text/plain": [
       "((1, 2, 3, 4, 5, 6), {'a': 23, 'b': 33})"
      ]
     },
     "execution_count": 91,
     "metadata": {},
     "output_type": "execute_result"
    }
   ],
   "source": [
    "test15(1,2,3,4,5,6,a= 23, b=33)"
   ]
  },
  {
   "cell_type": "code",
   "execution_count": 96,
   "id": "fc986230-ce96-4f24-a0dd-a0fa773c4a42",
   "metadata": {},
   "outputs": [],
   "source": [
    "a1= [1,2,3,4,5,6,7,8,9,'abc','bcd','cde','def']"
   ]
  },
  {
   "cell_type": "code",
   "execution_count": 97,
   "id": "5313be50-6c56-417d-af2d-adf636dc1625",
   "metadata": {},
   "outputs": [],
   "source": [
    "def test16(a):\n",
    "    n = []\n",
    "    for i in a:\n",
    "        if type(i)== int:\n",
    "            n.append(i)\n",
    "    return n"
   ]
  },
  {
   "cell_type": "code",
   "execution_count": 98,
   "id": "2ac02bd8-6ffe-457b-8aab-d13fd177fdd2",
   "metadata": {},
   "outputs": [
    {
     "data": {
      "text/plain": [
       "[1, 2, 3, 4, 5, 6, 7, 8, 9]"
      ]
     },
     "execution_count": 98,
     "metadata": {},
     "output_type": "execute_result"
    }
   ],
   "source": [
    "test16(a1)"
   ]
  },
  {
   "cell_type": "code",
   "execution_count": 106,
   "id": "8790eaa7-59db-4020-b618-3166ccbb8863",
   "metadata": {},
   "outputs": [],
   "source": [
    "Fibonacci =0,1,2,3,5,8,13,21,34"
   ]
  },
  {
   "cell_type": "code",
   "execution_count": 102,
   "id": "5cce590e-7b84-4b50-8c34-b6047dc58e49",
   "metadata": {},
   "outputs": [],
   "source": [
    "def test_fib(n):\n",
    "    a,b,=0,1\n",
    "    for i in range(n):\n",
    "        yield a\n",
    "        a,b = b,a+b"
   ]
  },
  {
   "cell_type": "code",
   "execution_count": 103,
   "id": "65410e9f-2341-4d00-9d58-75405ce496cf",
   "metadata": {},
   "outputs": [
    {
     "data": {
      "text/plain": [
       "<generator object test_fib at 0x7f0438344ac0>"
      ]
     },
     "execution_count": 103,
     "metadata": {},
     "output_type": "execute_result"
    }
   ],
   "source": [
    "test_fib(10)"
   ]
  },
  {
   "cell_type": "code",
   "execution_count": 104,
   "id": "a8ba78d7-1514-4cec-b6ae-331a2f44caa4",
   "metadata": {},
   "outputs": [
    {
     "name": "stdout",
     "output_type": "stream",
     "text": [
      "0\n",
      "1\n",
      "1\n",
      "2\n",
      "3\n",
      "5\n",
      "8\n",
      "13\n",
      "21\n",
      "34\n"
     ]
    }
   ],
   "source": [
    "for i in test_fib(10):\n",
    "    print(i)"
   ]
  }
 ],
 "metadata": {
  "kernelspec": {
   "display_name": "Python 3 (ipykernel)",
   "language": "python",
   "name": "python3"
  },
  "language_info": {
   "codemirror_mode": {
    "name": "ipython",
    "version": 3
   },
   "file_extension": ".py",
   "mimetype": "text/x-python",
   "name": "python",
   "nbconvert_exporter": "python",
   "pygments_lexer": "ipython3",
   "version": "3.10.8"
  }
 },
 "nbformat": 4,
 "nbformat_minor": 5
}
